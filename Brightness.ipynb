{
 "cells": [
  {
   "cell_type": "code",
   "execution_count": 1,
   "metadata": {},
   "outputs": [],
   "source": [
    "import cv2\n",
    "import keyboard as key\n",
    "import os\n",
    "import numpy as np\n",
    "import pandas as pd\n",
    "from PIL import Image\n",
    "path = 'cannyout/'"
   ]
  },
  {
   "cell_type": "code",
   "execution_count": 2,
   "metadata": {},
   "outputs": [],
   "source": [
    "def calculateMetricAll(image):\n",
    "    # average of All pixels\n",
    "    im = Image.open(image)\n",
    "    im_grey = im.convert('LA') # convert to grayscale\n",
    "    #im_grey = im\n",
    "    width, height = im.size\n",
    "\n",
    "    total = 0\n",
    "    for i in range(0, width-1):\n",
    "        for j in range(0, height-1):\n",
    "            total += im_grey.getpixel((i,j))[0]\n",
    "\n",
    "    mean = total / (width * height)\n",
    "    #print(mean)\n",
    "    return mean"
   ]
  },
  {
   "cell_type": "code",
   "execution_count": 3,
   "metadata": {},
   "outputs": [],
   "source": [
    "def calculateMetricNonBlack(image):\n",
    "    # average of All pixels\n",
    "    im = Image.open(image)\n",
    "    im_grey = im.convert('LA') # convert to grayscale\n",
    "    #im_grey = im\n",
    "    width, height = im.size\n",
    "    total = 0\n",
    "    totalpix = 0\n",
    "    for i in range(0, width):\n",
    "        for j in range(0, height):\n",
    "            pixval = im_grey.getpixel((i,j))[0]\n",
    "            if pixval != 0:\n",
    "                total += pixval\n",
    "                totalpix += 1\n",
    "                #print(pixval)\n",
    "\n",
    "    mean = total / totalpix\n",
    "    #print(mean)\n",
    "    return mean"
   ]
  },
  {
   "cell_type": "code",
   "execution_count": null,
   "metadata": {
    "scrolled": true
   },
   "outputs": [],
   "source": [
    "files = os.listdir(path)\n",
    "lisall = []\n",
    "lisnonblack = []\n",
    "i=1\n",
    "for file in files:\n",
    "    avgall = calculateMetricAll(path+file)\n",
    "    lisall.append(avgall)\n",
    "    avgnonblack = calculateMetricNonBlack(path+file)\n",
    "    lisnonblack.append(avgnonblack)\n",
    "print(lisall)\n",
    "print(lisnonblack)"
   ]
  },
  {
   "cell_type": "code",
   "execution_count": null,
   "metadata": {},
   "outputs": [],
   "source": [
    "labels = ['filename','meanAll','meanNonBlack']\n",
    "print(type(labels))\n",
    "filenames = os.listdir(path)\n",
    "print(type(filenames))"
   ]
  },
  {
   "cell_type": "code",
   "execution_count": null,
   "metadata": {},
   "outputs": [],
   "source": [
    "df = pd.DataFrame()\n",
    "df[labels[0]] = filenames\n",
    "df[labels[1]] = lisall\n",
    "df[labels[2]] = lisnonblack\n",
    "df.head()"
   ]
  },
  {
   "cell_type": "code",
   "execution_count": null,
   "metadata": {},
   "outputs": [],
   "source": [
    "df.to_csv('matric.csv')"
   ]
  },
  {
   "cell_type": "code",
   "execution_count": 6,
   "metadata": {},
   "outputs": [],
   "source": [
    "# addonly to non-black pixels \n",
    "# if v>255 v=255\n",
    "# if v<0 v=0\n",
    "# im[row:rowend, col:col:colend] += value\n",
    "def brightness(file,avg):\n",
    "    im = Image.open(file)\n",
    "    im_grey = im.convert('LA')\n",
    "    im_new = Image.new('L',im.size)\n",
    "    width, height = im.size\n",
    "    for i in range(0, width):\n",
    "        for j in range(0, height):\n",
    "            pixval = im_grey.getpixel((i,j))[0]\n",
    "            if pixval != 0 and pixval<255:\n",
    "                pixval += avg\n",
    "                im_new.putpixel((i,j),pixval)\n",
    "                #totalpix += 1\n",
    "                #print(pixval)\n",
    "            elif pixval+avg >= 255:\n",
    "                im_new.putpixel((i,j),255)\n",
    "    return im_new\n",
    "\n",
    "# im = brightness(path+'1.jpg',int(df['meanNonBlack'][0].item()))\n",
    "# im.show()"
   ]
  },
  {
   "cell_type": "code",
   "execution_count": null,
   "metadata": {},
   "outputs": [],
   "source": [
    "# length = len(files)\n",
    "# # i=0\n",
    "# # import keyboard\n",
    "# # while True:\n",
    "# #     if keyboard.is_pressed('n'):\n",
    "        \n",
    "# #         i += 1\n",
    "# #     elif keyboard.is_pressed('e'):\n",
    "# #         break\n",
    "# import keyboard\n",
    "# def on_press_reaction(event):\n",
    "#     global i\n",
    "#     if event.name == 'n':\n",
    "#         im = brightness(path+files[i],int(df['meanNonBlack'][i].item()))\n",
    "#         im.show()\n",
    "#         i += 1\n",
    "\n",
    "# keyboard.on_press(on_press_reaction)\n",
    "\n",
    "# while True:\n",
    "#     pass"
   ]
  },
  {
   "cell_type": "code",
   "execution_count": 11,
   "metadata": {},
   "outputs": [
    {
     "name": "stdout",
     "output_type": "stream",
     "text": [
      "99.76405956839109\n"
     ]
    }
   ],
   "source": [
    "df = pd.read_csv('matric.csv')\n",
    "df.head()\n",
    "filenames = df['filename']\n",
    "lisnonblack = df['meanNonBlack']\n",
    "avg = sum(lisnonblack)/len(lisnonblack)\n",
    "print(avg)"
   ]
  },
  {
   "cell_type": "code",
   "execution_count": 17,
   "metadata": {},
   "outputs": [],
   "source": [
    "length = len(filenames)\n",
    "n = 0\n",
    "for i in range(0,length):\n",
    "    im = brightness(path+filenames[i],int(avg))\n",
    "    im.save('testout/'+filenames[i])"
   ]
  },
  {
   "cell_type": "code",
   "execution_count": null,
   "metadata": {},
   "outputs": [],
   "source": []
  }
 ],
 "metadata": {
  "kernelspec": {
   "display_name": "Python 3",
   "language": "python",
   "name": "python3"
  },
  "language_info": {
   "codemirror_mode": {
    "name": "ipython",
    "version": 3
   },
   "file_extension": ".py",
   "mimetype": "text/x-python",
   "name": "python",
   "nbconvert_exporter": "python",
   "pygments_lexer": "ipython3",
   "version": "3.7.0"
  }
 },
 "nbformat": 4,
 "nbformat_minor": 2
}
